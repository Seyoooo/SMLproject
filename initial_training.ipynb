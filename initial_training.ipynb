{
 "cells": [
  {
   "cell_type": "markdown",
   "metadata": {},
   "source": [
    "### Imports and environemnt setup"
   ]
  },
  {
   "cell_type": "code",
   "execution_count": 70,
   "metadata": {},
   "outputs": [],
   "source": [
    "import utils \n",
    "import pandas as pd\n",
    "\n",
    "import sklearn\n",
    "\n",
    "from sklearn.linear_model import LinearRegression\n",
    "from sklearn.neighbors import KNeighborsRegressor, RadiusNeighborsRegressor\n",
    "\n",
    "from sklearn.model_selection import train_test_split\n",
    "\n",
    "from sklearn.metrics import mean_squared_error, mean_absolute_error, r2_score\n",
    "import matplotlib.pyplot as plt\n"
   ]
  },
  {
   "cell_type": "code",
   "execution_count": 99,
   "metadata": {},
   "outputs": [],
   "source": [
    "from_csv = False\n",
    "csv_path = 'movies.csv'"
   ]
  },
  {
   "cell_type": "markdown",
   "metadata": {},
   "source": [
    "### Get data from API or load csv"
   ]
  },
  {
   "cell_type": "code",
   "execution_count": 100,
   "metadata": {},
   "outputs": [],
   "source": [
    "if from_csv:\n",
    "    movies_df = pd.read_csv(csv_path)\n",
    "else:\n",
    "    movies_dict = utils.get_movies_list(pages=20)\n",
    "    all_movie_details = []\n",
    "    for i in range(len(movies_dict)):\n",
    "        movie_id = movies_dict[i]['id']\n",
    "        movie_details = utils.get_movie_details(movie_id)\n",
    "        all_movie_details.append(movie_details)\n",
    "    movies_df = pd.DataFrame(all_movie_details)\n",
    "    movies_df = movies_df[['id', 'budget', 'genres', 'popularity', 'revenue', 'title', 'release_date', 'runtime', 'vote_average']]\n"
   ]
  },
  {
   "cell_type": "code",
   "execution_count": 101,
   "metadata": {},
   "outputs": [
    {
     "data": {
      "text/html": [
       "<div>\n",
       "<style scoped>\n",
       "    .dataframe tbody tr th:only-of-type {\n",
       "        vertical-align: middle;\n",
       "    }\n",
       "\n",
       "    .dataframe tbody tr th {\n",
       "        vertical-align: top;\n",
       "    }\n",
       "\n",
       "    .dataframe thead th {\n",
       "        text-align: right;\n",
       "    }\n",
       "</style>\n",
       "<table border=\"1\" class=\"dataframe\">\n",
       "  <thead>\n",
       "    <tr style=\"text-align: right;\">\n",
       "      <th></th>\n",
       "      <th>id</th>\n",
       "      <th>budget</th>\n",
       "      <th>genres</th>\n",
       "      <th>popularity</th>\n",
       "      <th>revenue</th>\n",
       "      <th>title</th>\n",
       "      <th>release_date</th>\n",
       "      <th>runtime</th>\n",
       "      <th>vote_average</th>\n",
       "    </tr>\n",
       "  </thead>\n",
       "  <tbody>\n",
       "    <tr>\n",
       "      <th>0</th>\n",
       "      <td>19995</td>\n",
       "      <td>237000000</td>\n",
       "      <td>[{'id': 28, 'name': 'Action'}, {'id': 12, 'nam...</td>\n",
       "      <td>166.915</td>\n",
       "      <td>2923706026</td>\n",
       "      <td>Avatar</td>\n",
       "      <td>2009-12-15</td>\n",
       "      <td>162</td>\n",
       "      <td>7.576</td>\n",
       "    </tr>\n",
       "    <tr>\n",
       "      <th>1</th>\n",
       "      <td>299534</td>\n",
       "      <td>356000000</td>\n",
       "      <td>[{'id': 12, 'name': 'Adventure'}, {'id': 878, ...</td>\n",
       "      <td>130.074</td>\n",
       "      <td>2800000000</td>\n",
       "      <td>Avengers: Endgame</td>\n",
       "      <td>2019-04-24</td>\n",
       "      <td>181</td>\n",
       "      <td>8.261</td>\n",
       "    </tr>\n",
       "    <tr>\n",
       "      <th>2</th>\n",
       "      <td>76600</td>\n",
       "      <td>460000000</td>\n",
       "      <td>[{'id': 878, 'name': 'Science Fiction'}, {'id'...</td>\n",
       "      <td>379.955</td>\n",
       "      <td>2320250281</td>\n",
       "      <td>Avatar: The Way of Water</td>\n",
       "      <td>2022-12-14</td>\n",
       "      <td>192</td>\n",
       "      <td>7.651</td>\n",
       "    </tr>\n",
       "    <tr>\n",
       "      <th>3</th>\n",
       "      <td>597</td>\n",
       "      <td>200000000</td>\n",
       "      <td>[{'id': 18, 'name': 'Drama'}, {'id': 10749, 'n...</td>\n",
       "      <td>164.274</td>\n",
       "      <td>2264162353</td>\n",
       "      <td>Titanic</td>\n",
       "      <td>1997-11-18</td>\n",
       "      <td>194</td>\n",
       "      <td>7.901</td>\n",
       "    </tr>\n",
       "    <tr>\n",
       "      <th>4</th>\n",
       "      <td>140607</td>\n",
       "      <td>245000000</td>\n",
       "      <td>[{'id': 12, 'name': 'Adventure'}, {'id': 28, '...</td>\n",
       "      <td>102.188</td>\n",
       "      <td>2068223624</td>\n",
       "      <td>Star Wars: The Force Awakens</td>\n",
       "      <td>2015-12-15</td>\n",
       "      <td>136</td>\n",
       "      <td>7.289</td>\n",
       "    </tr>\n",
       "    <tr>\n",
       "      <th>...</th>\n",
       "      <td>...</td>\n",
       "      <td>...</td>\n",
       "      <td>...</td>\n",
       "      <td>...</td>\n",
       "      <td>...</td>\n",
       "      <td>...</td>\n",
       "      <td>...</td>\n",
       "      <td>...</td>\n",
       "      <td>...</td>\n",
       "    </tr>\n",
       "    <tr>\n",
       "      <th>395</th>\n",
       "      <td>534</td>\n",
       "      <td>200000000</td>\n",
       "      <td>[{'id': 28, 'name': 'Action'}, {'id': 878, 'na...</td>\n",
       "      <td>57.034</td>\n",
       "      <td>371353001</td>\n",
       "      <td>Terminator Salvation</td>\n",
       "      <td>2009-05-20</td>\n",
       "      <td>115</td>\n",
       "      <td>6.048</td>\n",
       "    </tr>\n",
       "    <tr>\n",
       "      <th>396</th>\n",
       "      <td>1771</td>\n",
       "      <td>140000000</td>\n",
       "      <td>[{'id': 28, 'name': 'Action'}, {'id': 12, 'nam...</td>\n",
       "      <td>55.444</td>\n",
       "      <td>370569774</td>\n",
       "      <td>Captain America: The First Avenger</td>\n",
       "      <td>2011-07-22</td>\n",
       "      <td>124</td>\n",
       "      <td>6.997</td>\n",
       "    </tr>\n",
       "    <tr>\n",
       "      <th>397</th>\n",
       "      <td>137113</td>\n",
       "      <td>178000000</td>\n",
       "      <td>[{'id': 28, 'name': 'Action'}, {'id': 878, 'na...</td>\n",
       "      <td>62.139</td>\n",
       "      <td>370541256</td>\n",
       "      <td>Edge of Tomorrow</td>\n",
       "      <td>2014-05-27</td>\n",
       "      <td>114</td>\n",
       "      <td>7.610</td>\n",
       "    </tr>\n",
       "    <tr>\n",
       "      <th>398</th>\n",
       "      <td>544</td>\n",
       "      <td>23000000</td>\n",
       "      <td>[{'id': 10749, 'name': 'Romance'}, {'id': 35, ...</td>\n",
       "      <td>40.081</td>\n",
       "      <td>369884651</td>\n",
       "      <td>There's Something About Mary</td>\n",
       "      <td>1998-07-15</td>\n",
       "      <td>119</td>\n",
       "      <td>6.590</td>\n",
       "    </tr>\n",
       "    <tr>\n",
       "      <th>399</th>\n",
       "      <td>210577</td>\n",
       "      <td>61000000</td>\n",
       "      <td>[{'id': 9648, 'name': 'Mystery'}, {'id': 53, '...</td>\n",
       "      <td>95.602</td>\n",
       "      <td>369300000</td>\n",
       "      <td>Gone Girl</td>\n",
       "      <td>2014-10-01</td>\n",
       "      <td>149</td>\n",
       "      <td>7.893</td>\n",
       "    </tr>\n",
       "  </tbody>\n",
       "</table>\n",
       "<p>400 rows × 9 columns</p>\n",
       "</div>"
      ],
      "text/plain": [
       "         id     budget                                             genres  \\\n",
       "0     19995  237000000  [{'id': 28, 'name': 'Action'}, {'id': 12, 'nam...   \n",
       "1    299534  356000000  [{'id': 12, 'name': 'Adventure'}, {'id': 878, ...   \n",
       "2     76600  460000000  [{'id': 878, 'name': 'Science Fiction'}, {'id'...   \n",
       "3       597  200000000  [{'id': 18, 'name': 'Drama'}, {'id': 10749, 'n...   \n",
       "4    140607  245000000  [{'id': 12, 'name': 'Adventure'}, {'id': 28, '...   \n",
       "..      ...        ...                                                ...   \n",
       "395     534  200000000  [{'id': 28, 'name': 'Action'}, {'id': 878, 'na...   \n",
       "396    1771  140000000  [{'id': 28, 'name': 'Action'}, {'id': 12, 'nam...   \n",
       "397  137113  178000000  [{'id': 28, 'name': 'Action'}, {'id': 878, 'na...   \n",
       "398     544   23000000  [{'id': 10749, 'name': 'Romance'}, {'id': 35, ...   \n",
       "399  210577   61000000  [{'id': 9648, 'name': 'Mystery'}, {'id': 53, '...   \n",
       "\n",
       "     popularity     revenue                               title release_date  \\\n",
       "0       166.915  2923706026                              Avatar   2009-12-15   \n",
       "1       130.074  2800000000                   Avengers: Endgame   2019-04-24   \n",
       "2       379.955  2320250281            Avatar: The Way of Water   2022-12-14   \n",
       "3       164.274  2264162353                             Titanic   1997-11-18   \n",
       "4       102.188  2068223624        Star Wars: The Force Awakens   2015-12-15   \n",
       "..          ...         ...                                 ...          ...   \n",
       "395      57.034   371353001                Terminator Salvation   2009-05-20   \n",
       "396      55.444   370569774  Captain America: The First Avenger   2011-07-22   \n",
       "397      62.139   370541256                    Edge of Tomorrow   2014-05-27   \n",
       "398      40.081   369884651        There's Something About Mary   1998-07-15   \n",
       "399      95.602   369300000                           Gone Girl   2014-10-01   \n",
       "\n",
       "     runtime  vote_average  \n",
       "0        162         7.576  \n",
       "1        181         8.261  \n",
       "2        192         7.651  \n",
       "3        194         7.901  \n",
       "4        136         7.289  \n",
       "..       ...           ...  \n",
       "395      115         6.048  \n",
       "396      124         6.997  \n",
       "397      114         7.610  \n",
       "398      119         6.590  \n",
       "399      149         7.893  \n",
       "\n",
       "[400 rows x 9 columns]"
      ]
     },
     "execution_count": 101,
     "metadata": {},
     "output_type": "execute_result"
    }
   ],
   "source": [
    "movies_df"
   ]
  },
  {
   "cell_type": "code",
   "execution_count": 102,
   "metadata": {},
   "outputs": [],
   "source": [
    "if not from_csv:\n",
    "    movies_df.to_csv('movies2.csv', index=False)"
   ]
  },
  {
   "cell_type": "markdown",
   "metadata": {},
   "source": [
    "### Training a basic model"
   ]
  },
  {
   "cell_type": "code",
   "execution_count": 103,
   "metadata": {},
   "outputs": [
    {
     "name": "stdout",
     "output_type": "stream",
     "text": [
      "Training set scores: mse 43499810659051224.000000, mae 139349494.290512, r2 0.610875\n",
      "Test set scores: mse 10633823967902210726366955886736310272.000000, mae 1152921504911683584.000000, r2 -71570737453149544448.000000\n"
     ]
    },
    {
     "name": "stderr",
     "output_type": "stream",
     "text": [
      "c:\\Users\\Iga\\anaconda3\\envs\\id2223\\lib\\site-packages\\numpy\\core\\numeric.py:407: RuntimeWarning: invalid value encountered in cast\n",
      "  multiarray.copyto(res, fill_value, casting='unsafe')\n",
      "c:\\Users\\Iga\\anaconda3\\envs\\id2223\\lib\\site-packages\\numpy\\core\\numeric.py:407: RuntimeWarning: invalid value encountered in cast\n",
      "  multiarray.copyto(res, fill_value, casting='unsafe')\n"
     ]
    }
   ],
   "source": [
    "model = KNeighborsRegressor(n_neighbors= 10)\n",
    "model = RadiusNeighborsRegressor(radius= 10)\n",
    "movies_df = movies_df.dropna()\n",
    "X = movies_df[['budget']]\n",
    "\n",
    "y = movies_df['revenue']\n",
    "X_train, X_test, y_train, y_test = train_test_split(X, y, test_size=0.2)\n",
    "reg = model.fit(X_train, y_train)\n",
    "\n",
    "# Evaluate on training set\n",
    "y_pred = reg.predict(X_train)\n",
    "mse = mean_squared_error(y_train, y_pred)\n",
    "mae = mean_absolute_error(y_train, y_pred)\n",
    "r2 = r2_score(y_train, y_pred)\n",
    "print(\"Training set scores: mse %f, mae %f, r2 %f\" % (mse, mae, r2))\n",
    "\n",
    "\n",
    "# Evaluate on test set\n",
    "y_pred = reg.predict(X_test)\n",
    "mse = mean_squared_error(y_test, y_pred)\n",
    "mae = mean_absolute_error(y_test, y_pred)\n",
    "r2 = r2_score(y_test, y_pred)\n",
    "print(\"Test set scores: mse %f, mae %f, r2 %f\" % (mse, mae, r2))\n"
   ]
  },
  {
   "cell_type": "code",
   "execution_count": 104,
   "metadata": {},
   "outputs": [
    {
     "name": "stderr",
     "output_type": "stream",
     "text": [
      "c:\\Users\\Iga\\anaconda3\\envs\\id2223\\lib\\site-packages\\numpy\\core\\numeric.py:407: RuntimeWarning: invalid value encountered in cast\n",
      "  multiarray.copyto(res, fill_value, casting='unsafe')\n",
      "c:\\Users\\Iga\\anaconda3\\envs\\id2223\\lib\\site-packages\\numpy\\core\\numeric.py:407: RuntimeWarning: invalid value encountered in cast\n",
      "  multiarray.copyto(res, fill_value, casting='unsafe')\n"
     ]
    },
    {
     "data": {
      "image/png": "[encoded data removed]",
      "text/plain": [
       "<Figure size 1000x300 with 2 Axes>"
      ]
     },
     "metadata": {},
     "output_type": "display_data"
    }
   ],
   "source": [
    "f, ax = plt.subplots(1, 2,figsize=(10, 3))\n",
    "ax[0].scatter(X_train, y_train, color='green')\n",
    "ax[0].scatter(X_train, reg.predict(X_train), color='purple')\n",
    "ax[1].scatter(X_test, y_test, color='green')\n",
    "ax[1].scatter(X_test, reg.predict(X_test), color='purple')\n",
    "\n",
    "plt.show()\n",
    "\n",
    "# plt.scatter(X_train, y_train, color='green')\n",
    "# plt.scatter(X_train, reg.predict(X_train), color='purple')"
   ]
  },
  {
   "cell_type": "code",
   "execution_count": null,
   "metadata": {},
   "outputs": [],
   "source": []
  }
 ],
 "metadata": {
  "kernelspec": {
   "display_name": "id2223",
   "language": "python",
   "name": "python3"
  },
  "language_info": {
   "codemirror_mode": {
    "name": "ipython",
    "version": 3
   },
   "file_extension": ".py",
   "mimetype": "text/x-python",
   "name": "python",
   "nbconvert_exporter": "python",
   "pygments_lexer": "ipython3",
   "version": "3.10.0"
  }
 },
 "nbformat": 4,
 "nbformat_minor": 2
}
